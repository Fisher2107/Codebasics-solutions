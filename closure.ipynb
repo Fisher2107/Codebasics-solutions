{
 "cells": [
  {
   "cell_type": "code",
   "execution_count": 4,
   "metadata": {},
   "outputs": [
    {
     "name": "stdout",
     "output_type": "stream",
     "text": [
      "Hi\n"
     ]
    }
   ],
   "source": [
    "def outer_func():\n",
    "    message= 'Hi'\n",
    "    def inner_func():\n",
    "        #message is a free variable, because it is not defined in the inner function but yet is still avaiable since it was defined in the outer function\n",
    "        print(message)\n",
    "    return inner_func()\n",
    "\n",
    "outer_func()"
   ]
  },
  {
   "cell_type": "code",
   "execution_count": 7,
   "metadata": {},
   "outputs": [
    {
     "name": "stdout",
     "output_type": "stream",
     "text": [
      "inner_func\n",
      "Hi\n"
     ]
    }
   ],
   "source": [
    "def outer_func():\n",
    "    message= 'Hi'\n",
    "    def inner_func():\n",
    "        print(message)\n",
    "    # now we return a function instead of the execution of the function\n",
    "    return inner_func\n",
    "\n",
    "my_func=outer_func()\n",
    "print(my_func.__name__)\n",
    "my_func()\n",
    "\n",
    "#A closure is an innerfunction that remembers and has access to variavle in the local scope that it was created. Even when the outer function has finished executing"
   ]
  },
  {
   "cell_type": "code",
   "execution_count": 1,
   "metadata": {},
   "outputs": [
    {
     "name": "stdout",
     "output_type": "stream",
     "text": [
      "6\n",
      "9\n",
      "5\n",
      "10\n"
     ]
    }
   ],
   "source": [
    "# Closures\n",
    "#Text book def\n",
    "#In programming languages, a closure, also lexical closure or function closure, is a technique for implementing lexically scoped name binding in a language \n",
    "#with first-class functions. Operationally, a closure is a record storing a function[a] together with an environment.\n",
    "\n",
    "#Lexical defintion:the meaning of a word considered in isolation from the sentence containing it, and regardless of its grammatical context\n",
    "# EX: a dictionary provides lexical information—it tells you what the word “cat” means, not all there is to know about cats\n",
    "\n",
    "#Note logging creates a log file after you run the programming giving you details on what happened\n",
    "import logging\n",
    "logging.basicConfig(filename='example.log', level=logging.INFO, filemode='w')\n",
    "\n",
    "\n",
    "def logger(func):\n",
    "    #*args means it can take any number of arguments\n",
    "    def log_func(*args):\n",
    "        logging.info(\n",
    "            'Running \"{}\" with arguments {}'.format(func.__name__, args))\n",
    "        print(func(*args))\n",
    "    return log_func\n",
    "\n",
    "\n",
    "def add(x, y):\n",
    "    return x+y\n",
    "\n",
    "def sub(x, y):\n",
    "    return x-y\n",
    "\n",
    "\n",
    "add_logger = logger(add)\n",
    "sub_logger = logger(sub)\n",
    "\n",
    "#It remember to use add.\n",
    "add_logger(3, 3)\n",
    "add_logger(4, 5)\n",
    " \n",
    "sub_logger(10, 5)\n",
    "sub_logger(20, 10)"
   ]
  },
  {
   "cell_type": "code",
   "execution_count": null,
   "metadata": {},
   "outputs": [],
   "source": []
  }
 ],
 "metadata": {
  "kernelspec": {
   "display_name": "Python 3",
   "language": "python",
   "name": "python3"
  },
  "language_info": {
   "codemirror_mode": {
    "name": "ipython",
    "version": 3
   },
   "file_extension": ".py",
   "mimetype": "text/x-python",
   "name": "python",
   "nbconvert_exporter": "python",
   "pygments_lexer": "ipython3",
   "version": "3.8.3"
  }
 },
 "nbformat": 4,
 "nbformat_minor": 4
}
