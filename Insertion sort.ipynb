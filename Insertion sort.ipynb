{
 "cells": [
  {
   "cell_type": "code",
   "execution_count": 27,
   "id": "0fe8ffda-5f79-4c43-8170-aa5f845bb38d",
   "metadata": {},
   "outputs": [
    {
     "name": "stdout",
     "output_type": "stream",
     "text": [
      "[2, 7, 9, 11, 15, 28, 29]\n",
      "sorted array: [2, 7, 9, 11, 15, 28, 29]\n",
      "sorted array: [3, 7, 9, 11]\n",
      "sorted array: [10, 21, 22, 25]\n",
      "sorted array: [15, 28, 29]\n",
      "sorted array: []\n",
      "sorted array: [6]\n",
      "[2, 7, 9, 11, 15, 28, 29]\n",
      "sorted array: [2, 7, 9, 11, 15, 28, 29]\n",
      "sorted array: [3, 7, 9, 11]\n",
      "sorted array: [10, 21, 22, 25]\n",
      "sorted array: [15, 28, 29]\n",
      "sorted array: []\n",
      "sorted array: [6]\n",
      "#####Exersise######\n",
      "1.5\n",
      "2\n",
      "3.5\n",
      "2\n",
      "2.0\n",
      "2\n"
     ]
    }
   ],
   "source": [
    "#Insertion sort is a simple sorting algorithm (Very few lines of code) that is best for small lists. If your array \n",
    "#is very big insertion sort might not be the perfect choice as it performs in O(n^2) time complexity.\n",
    "\n",
    "#Works by creating a new array from the unsorted array. This array stays within the prginal array and slowly consumes it\n",
    "\n",
    "def swap(a, b, arr):\n",
    "    if a!=b:\n",
    "        tmp = arr[a]\n",
    "        arr[a] = arr[b]\n",
    "        arr[b] = tmp\n",
    "    \n",
    "#my own code\n",
    "def insertion_sort(arr):\n",
    "    for i in range(1,len(arr)):\n",
    "        #Note try implenent the break that is in the while loop in the while condition itself\n",
    "        while i>0:\n",
    "            if arr[i]>=arr[i-1]:\n",
    "                break\n",
    "            swap(i, i-1, arr)\n",
    "            i=i-1\n",
    "\n",
    "#more optimise using anchor, optimesed my code after seeing the answer\n",
    "def insertion_sort2(arr):\n",
    "    for i in range(1,len(arr)):\n",
    "        anchor=arr[i]\n",
    "       #Note if we do anchor>=arr[i-1]: we will get a reverse sort\n",
    "        while i>0 and anchor<arr[i-1]:\n",
    "            arr[i]=arr[i-1]\n",
    "            i=i-1\n",
    "        arr[i]=anchor\n",
    "\n",
    "#exersise\n",
    "def running_median(arr):\n",
    "    for i in range(1,len(arr)):\n",
    "        j=i\n",
    "        anchor=arr[i]\n",
    "        while i>0 and anchor<arr[i-1]:\n",
    "            arr[i]=arr[i-1]\n",
    "            i=i-1\n",
    "        arr[i]=anchor\n",
    "        if j%2==0:\n",
    "            print(arr[(j//2)])\n",
    "        else:\n",
    "            print((arr[((j+1)//2)]+arr[((j+1)//2)-1])/2)\n",
    "\n",
    "            \n",
    "\n",
    "if __name__ == '__main__':\n",
    "    elements = [11,9,29,7,2,15,28]\n",
    "    insertion_sort(elements)\n",
    "    print(elements)\n",
    "    #\n",
    "    tests = [\n",
    "        [11,9,29,7,2,15,28],\n",
    "        [3, 7, 9, 11],\n",
    "        [25, 22, 21, 10],\n",
    "        [29, 15, 28],\n",
    "        [],\n",
    "        [6]\n",
    "    ]\n",
    "\n",
    "    for elements in tests:\n",
    "        insertion_sort(elements)\n",
    "        print(f'sorted array: {elements}')\n",
    "#insertion2        \n",
    "    elements = [11,9,29,7,2,15,28]\n",
    "    insertion_sort2(elements)\n",
    "    print(elements)\n",
    "    #\n",
    "    tests = [\n",
    "        [11,9,29,7,2,15,28],\n",
    "        [3, 7, 9, 11],\n",
    "        [25, 22, 21, 10],\n",
    "        [29, 15, 28],\n",
    "        [],\n",
    "        [6]\n",
    "    ]\n",
    "\n",
    "    for elements in tests:\n",
    "        insertion_sort2(elements)\n",
    "        print(f'sorted array: {elements}')\n",
    "        \n",
    "#exersise  \n",
    "    print('#####Exersise######')\n",
    "    running_median([2, 1, 5, 7, 2, 0, 5])\n"
   ]
  },
  {
   "cell_type": "code",
   "execution_count": 16,
   "id": "5d18ef70-7f09-49cf-a3d6-be09a0e2dde1",
   "metadata": {},
   "outputs": [
    {
     "data": {
      "text/plain": [
       "0"
      ]
     },
     "execution_count": 16,
     "metadata": {},
     "output_type": "execute_result"
    }
   ],
   "source": [
    "6%2"
   ]
  },
  {
   "cell_type": "code",
   "execution_count": null,
   "id": "fa4c9782-b2dd-47da-b506-c4a9b6b2381f",
   "metadata": {},
   "outputs": [],
   "source": []
  },
  {
   "cell_type": "code",
   "execution_count": null,
   "id": "9e732abc-3433-44ac-bc71-debca422e198",
   "metadata": {},
   "outputs": [],
   "source": []
  }
 ],
 "metadata": {
  "kernelspec": {
   "display_name": "Python 3 (ipykernel)",
   "language": "python",
   "name": "python3"
  },
  "language_info": {
   "codemirror_mode": {
    "name": "ipython",
    "version": 3
   },
   "file_extension": ".py",
   "mimetype": "text/x-python",
   "name": "python",
   "nbconvert_exporter": "python",
   "pygments_lexer": "ipython3",
   "version": "3.9.7"
  }
 },
 "nbformat": 4,
 "nbformat_minor": 5
}
