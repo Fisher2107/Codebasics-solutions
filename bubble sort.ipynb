{
 "cells": [
  {
   "cell_type": "code",
   "execution_count": 2,
   "metadata": {},
   "outputs": [
    {
     "name": "stdout",
     "output_type": "stream",
     "text": [
      "['aamir', 'chang', 'dhaval', 'mona', 'tina']\n"
     ]
    }
   ],
   "source": [
    "# you can use this to sort strings too\n",
    "def bubble_sort(elements):\n",
    "    size = len(elements)\n",
    "    for i in range(size-1):\n",
    "        #swapped breaks loop if list is already sorted after one loop of the list\n",
    "        swapped = False\n",
    "        #optimisation - i here says that after the ith iteration we know that the last i elements in the list are already sorted so there is no need to go again\n",
    "        for j in range(size-1-i):\n",
    "            if elements[j] > elements[j+1]:\n",
    "                tmp = elements[j]\n",
    "                elements[j] = elements[j+1]\n",
    "                elements[j+1] = tmp\n",
    "                swapped = True\n",
    "\n",
    "        if not swapped:\n",
    "            break\n",
    "\n",
    "\n",
    "if __name__ == '__main__':\n",
    "    elements = [5,9,2,1,67,34,88,34]\n",
    "    elements = [1,2,3,4,2]\n",
    "    elements = [\"mona\", \"dhaval\", \"aamir\", \"tina\", \"chang\"]\n",
    "\n",
    "    bubble_sort(elements)\n",
    "    print(elements)"
   ]
  },
  {
   "cell_type": "code",
   "execution_count": 5,
   "metadata": {},
   "outputs": [
    {
     "name": "stdout",
     "output_type": "stream",
     "text": [
      "[{'name': 'aamir', 'transaction_amount': 800, 'device': 'iphone-8'}, {'name': 'dhaval', 'transaction_amount': 400, 'device': 'google pixel'}, {'name': 'kathy', 'transaction_amount': 200, 'device': 'vivo'}, {'name': 'mona', 'transaction_amount': 1000, 'device': 'iphone-10'}]\n",
      "\n",
      "[{'name': 'kathy', 'transaction_amount': 200, 'device': 'vivo'}, {'name': 'dhaval', 'transaction_amount': 400, 'device': 'google pixel'}, {'name': 'aamir', 'transaction_amount': 800, 'device': 'iphone-8'}, {'name': 'mona', 'transaction_amount': 1000, 'device': 'iphone-10'}]\n"
     ]
    }
   ],
   "source": [
    "#Exercise:\n",
    "#Modify bubble_sort function such that it can sort following list of transactions happening in an electronic store,\n",
    "elements = [\n",
    "        { 'name': 'mona',   'transaction_amount': 1000, 'device': 'iphone-10'},\n",
    "        { 'name': 'dhaval', 'transaction_amount': 400,  'device': 'google pixel'},\n",
    "        { 'name': 'kathy',  'transaction_amount': 200,  'device': 'vivo'},\n",
    "        { 'name': 'aamir',  'transaction_amount': 800,  'device': 'iphone-8'},\n",
    "    ]\n",
    "#bubble_sort function should take key from a transaction record and sort the list as per that key. For example,\n",
    "#bubble_sort(elements, key='transaction_amount')\n",
    "\n",
    "def bubble_sort(elements , key):\n",
    "    size = len(elements)\n",
    "\n",
    "    for i in range(size-1):\n",
    "        swapped = False\n",
    "        for j in range(size-1-i):\n",
    "            if elements[j][key] > elements[j+1][key]:\n",
    "                tmp = elements[j]\n",
    "                elements[j] = elements[j+1]\n",
    "                elements[j+1] = tmp\n",
    "                swapped = True\n",
    "\n",
    "        if not swapped:\n",
    "            break\n",
    "    \n",
    "bubble_sort(elements, key='name')\n",
    "print(elements)\n",
    "print('')\n",
    "elements = [\n",
    "        { 'name': 'mona',   'transaction_amount': 1000, 'device': 'iphone-10'},\n",
    "        { 'name': 'dhaval', 'transaction_amount': 400,  'device': 'google pixel'},\n",
    "        { 'name': 'kathy',  'transaction_amount': 200,  'device': 'vivo'},\n",
    "        { 'name': 'aamir',  'transaction_amount': 800,  'device': 'iphone-8'},\n",
    "    ]\n",
    "bubble_sort(elements, key='transaction_amount')\n",
    "print(elements)"
   ]
  },
  {
   "cell_type": "code",
   "execution_count": null,
   "metadata": {},
   "outputs": [],
   "source": []
  }
 ],
 "metadata": {
  "kernelspec": {
   "display_name": "Python 3",
   "language": "python",
   "name": "python3"
  },
  "language_info": {
   "codemirror_mode": {
    "name": "ipython",
    "version": 3
   },
   "file_extension": ".py",
   "mimetype": "text/x-python",
   "name": "python",
   "nbconvert_exporter": "python",
   "pygments_lexer": "ipython3",
   "version": "3.8.3"
  }
 },
 "nbformat": 4,
 "nbformat_minor": 4
}
