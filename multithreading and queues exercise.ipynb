{
 "cells": [
  {
   "cell_type": "code",
   "execution_count": 1,
   "id": "12f5096d-d8c0-46a9-a54e-d89706626cee",
   "metadata": {},
   "outputs": [],
   "source": [
    "#My solution to codebasics datatstructures problem which involves queues and multithreading\n",
    "#Questions found here:\n",
    "#https://github.com/codebasics/data-structures-algorithms-python/blob/master/data_structures/6_Queue/6_queue_exercise.md"
   ]
  },
  {
   "cell_type": "code",
   "execution_count": 2,
   "id": "ca7c9648-3c72-4ea9-af8b-5228dacd0c1e",
   "metadata": {
    "tags": []
   },
   "outputs": [],
   "source": [
    "#Question 1\n",
    "import time\n",
    "import threading\n",
    "from collections import deque\n",
    "\n",
    "class Queue:\n",
    "    \n",
    "    def __init__(self):\n",
    "        self.buffer = deque()\n",
    "    \n",
    "    def enqueue(self, val):\n",
    "        self.buffer.appendleft(val)\n",
    "        \n",
    "    def dequeue(self):\n",
    "        return self.buffer.pop()\n",
    "    \n",
    "    def is_empty(self):\n",
    "        return len(self.buffer)==0\n",
    "    \n",
    "    def size(self):\n",
    "        return len(self.buffer)\n",
    "    \n",
    "orders = ['pizza','samosa','pasta','biryani','burger']\n",
    "\n",
    "def placeorders(list):\n",
    "    global q\n",
    "    q=Queue()\n",
    "    for orders in list:\n",
    "        q.enqueue(orders)\n",
    "        print(orders, ' is placed as order')\n",
    "        time.sleep(0.5)\n",
    "    return\n",
    "\n",
    "def serveorders():\n",
    "    t=time.time()\n",
    "    while True:\n",
    "        if not q.is_empty():\n",
    "            time.sleep(2)\n",
    "            print(q.dequeue(),' has now been served')\n",
    "            t=time.time()\n",
    "        if time.time()-t > 5:\n",
    "            print('5 seconds has passed since last order so stopped')\n",
    "            return"
   ]
  },
  {
   "cell_type": "code",
   "execution_count": 3,
   "id": "e3a7cd4b-cbc2-48cd-be3b-0abb4b72c370",
   "metadata": {},
   "outputs": [
    {
     "name": "stdout",
     "output_type": "stream",
     "text": [
      "pizza  is placed as order\n",
      "samosa  is placed as order\n",
      "pasta  is placed as order\n",
      "biryani  is placed as order\n",
      "burger  is placed as order\n",
      "pizza  has now been served\n",
      "samosa  has now been served\n",
      "pasta  has now been served\n",
      "biryani  has now been served\n",
      "burger  has now been served\n",
      "5 seconds has passed since last order so stopped\n"
     ]
    }
   ],
   "source": [
    "#without multithreading\n",
    "placeorders(orders)\n",
    "serveorders()"
   ]
  },
  {
   "cell_type": "code",
   "execution_count": 7,
   "id": "fd7ae019-8e26-47a5-bb6a-905087ca29a2",
   "metadata": {},
   "outputs": [
    {
     "name": "stdout",
     "output_type": "stream",
     "text": [
      "pizza  is placed as order\n",
      "samosa  is placed as order\n",
      "pasta  is placed as order\n",
      "biryani  is placed as order\n",
      "pizza  has now been served\n",
      "burger  is placed as order\n",
      "samosa  has now been served\n",
      "pasta  has now been served\n",
      "biryani  has now been served\n",
      "burger  has now been served\n",
      "5 seconds has passed since last order so stopped\n"
     ]
    }
   ],
   "source": [
    "#with multithreading\n",
    "t1=threading.Thread(target=placeorders, args=(orders,))\n",
    "t2=threading.Thread(target=serveorders)\n",
    "\n",
    "t1.start()\n",
    "t2.start()"
   ]
  },
  {
   "cell_type": "code",
   "execution_count": 8,
   "id": "fb22be13-d739-4f2b-8837-5b86450a7431",
   "metadata": {},
   "outputs": [],
   "source": [
    "#Question 2\n",
    "class Queue:\n",
    "    \n",
    "    def __init__(self):\n",
    "        self.buffer = deque()\n",
    "    \n",
    "    def enqueue(self, val):\n",
    "        self.buffer.appendleft(val)\n",
    "        \n",
    "    def dequeue(self):\n",
    "        return self.buffer.pop()\n",
    "    \n",
    "    def is_empty(self):\n",
    "        return len(self.buffer)==0\n",
    "    \n",
    "    def size(self):\n",
    "        return len(self.buffer)\n",
    "    \n",
    "    def front(self):\n",
    "        return self.buffer[-1]\n",
    "                           \n",
    "#one of these two queues in the argument contains a queue representing a binary number and the other is empty\n",
    "#Transfer is a function that moves the binary queue to the empty queue and in the process increases the binary number by one\n",
    "def transfer(queue1,queue2):\n",
    "    string=''\n",
    "    if queue2.is_empty():\n",
    "        found0=False\n",
    "        while True:\n",
    "            if queue1.is_empty():\n",
    "                break\n",
    "            if not found0:\n",
    "                if queue1.dequeue()==1:\n",
    "                    queue2.enqueue(0)\n",
    "                    string+='0'\n",
    "                else:\n",
    "                    queue2.enqueue(1)\n",
    "                    string+='1'\n",
    "                    found0=True\n",
    "            else:\n",
    "                string+=str(queue1.front())\n",
    "                queue2.enqueue(queue1.dequeue())\n",
    "        if not found0:\n",
    "            queue2.enqueue(1)\n",
    "            string+='1'\n",
    "    else:\n",
    "        return transfer(queue2,queue1)\n",
    "    return(string[::-1])\n",
    "\n",
    "def binarysequence(n):\n",
    "    binary1=Queue()\n",
    "    binary2=Queue()\n",
    "    string='1'\n",
    "    binary1.enqueue(1)\n",
    "    print(string)\n",
    "    if n<1: print('enter integrer greater than or equal to 1')\n",
    "    for i in range(n-1):\n",
    "        print(transfer(binary1,binary2))"
   ]
  },
  {
   "cell_type": "code",
   "execution_count": 9,
   "id": "dbd5185f-3204-4cd2-ad39-63183c6c3b37",
   "metadata": {
    "tags": []
   },
   "outputs": [
    {
     "name": "stdout",
     "output_type": "stream",
     "text": [
      "1\n",
      "10\n",
      "11\n",
      "100\n",
      "101\n",
      "110\n",
      "111\n",
      "1000\n",
      "1001\n",
      "1010\n"
     ]
    }
   ],
   "source": [
    "binarysequence(10)"
   ]
  },
  {
   "cell_type": "code",
   "execution_count": null,
   "id": "926f95d3-6b3c-43f4-98b5-8fd1a826e79b",
   "metadata": {},
   "outputs": [],
   "source": []
  }
 ],
 "metadata": {
  "kernelspec": {
   "display_name": "Python 3 (ipykernel)",
   "language": "python",
   "name": "python3"
  },
  "language_info": {
   "codemirror_mode": {
    "name": "ipython",
    "version": 3
   },
   "file_extension": ".py",
   "mimetype": "text/x-python",
   "name": "python",
   "nbconvert_exporter": "python",
   "pygments_lexer": "ipython3",
   "version": "3.9.7"
  }
 },
 "nbformat": 4,
 "nbformat_minor": 5
}
