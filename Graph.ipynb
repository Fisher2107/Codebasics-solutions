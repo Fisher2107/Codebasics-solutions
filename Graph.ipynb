{
 "cells": [
  {
   "cell_type": "code",
   "execution_count": null,
   "id": "5263386a-54d2-4f55-80ee-262781078706",
   "metadata": {},
   "outputs": [],
   "source": [
    "#Graphs consist of two elements nodes and edges\n",
    "#There are different types of edges. Ones with direction and ones without.\n",
    "#Examples of a graph without edges is the facebook friends network. Each person(node) is connected by an edge if they are friends.\n",
    "#Example of gragh with edges is flight paths. These have a specific direction they must follow.\n",
    "#Another type of edge is a weighted edge. Where you can assosiate a cost of travelling from one node to the other.\n",
    "#Difference between graph and tree is that in the tree each node has to be accessed by a unique path from the root node. \n",
    "#However in graphs there can be many paths to get from one node to another."
   ]
  }
 ],
 "metadata": {
  "kernelspec": {
   "display_name": "Python 3 (ipykernel)",
   "language": "python",
   "name": "python3"
  },
  "language_info": {
   "codemirror_mode": {
    "name": "ipython",
    "version": 3
   },
   "file_extension": ".py",
   "mimetype": "text/x-python",
   "name": "python",
   "nbconvert_exporter": "python",
   "pygments_lexer": "ipython3",
   "version": "3.9.7"
  }
 },
 "nbformat": 4,
 "nbformat_minor": 5
}
