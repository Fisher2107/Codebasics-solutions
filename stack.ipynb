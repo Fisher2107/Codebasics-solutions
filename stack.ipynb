{
 "cells": [
  {
   "cell_type": "code",
   "execution_count": 30,
   "id": "5d604646-041f-479d-b615-6be07faa78e5",
   "metadata": {},
   "outputs": [
    {
     "name": "stdout",
     "output_type": "stream",
     "text": [
      "Galgamesh\n",
      "is\n",
      "name\n",
      "my\n",
      "['hello']\n"
     ]
    }
   ],
   "source": [
    "#Stacks - last in first out(lifo)\n",
    "#pushing element is puting elements on the stack\n",
    "#popping is removed the last pushed element on the stack\n",
    "#Any Ctrl+Z (udo functionallity) uses stack\n",
    "\n",
    "#python list can be used as a stack\n",
    "s=[]\n",
    "s.append('hello')\n",
    "s.append('my')\n",
    "s.append('name')\n",
    "s.append('is')\n",
    "s.append('Galgamesh')\n",
    "print(s.pop())\n",
    "print(s.pop())\n",
    "print(s.pop())\n",
    "print(s.pop())\n",
    "print(s)\n",
    "\n",
    "#however this is not optimal since it is a dynamic array\n",
    "#in python it has an inbuilt stack call deque, note this can also be used as a queue"
   ]
  },
  {
   "cell_type": "code",
   "execution_count": 2,
   "id": "596500cb-252b-41b0-a6af-62b268593e20",
   "metadata": {
    "tags": []
   },
   "outputs": [
    {
     "data": {
      "text/plain": [
       "['__add__',\n",
       " '__bool__',\n",
       " '__class__',\n",
       " '__class_getitem__',\n",
       " '__contains__',\n",
       " '__copy__',\n",
       " '__delattr__',\n",
       " '__delitem__',\n",
       " '__dir__',\n",
       " '__doc__',\n",
       " '__eq__',\n",
       " '__format__',\n",
       " '__ge__',\n",
       " '__getattribute__',\n",
       " '__getitem__',\n",
       " '__gt__',\n",
       " '__hash__',\n",
       " '__iadd__',\n",
       " '__imul__',\n",
       " '__init__',\n",
       " '__init_subclass__',\n",
       " '__iter__',\n",
       " '__le__',\n",
       " '__len__',\n",
       " '__lt__',\n",
       " '__mul__',\n",
       " '__ne__',\n",
       " '__new__',\n",
       " '__reduce__',\n",
       " '__reduce_ex__',\n",
       " '__repr__',\n",
       " '__reversed__',\n",
       " '__rmul__',\n",
       " '__setattr__',\n",
       " '__setitem__',\n",
       " '__sizeof__',\n",
       " '__str__',\n",
       " '__subclasshook__',\n",
       " 'append',\n",
       " 'appendleft',\n",
       " 'clear',\n",
       " 'copy',\n",
       " 'count',\n",
       " 'extend',\n",
       " 'extendleft',\n",
       " 'index',\n",
       " 'insert',\n",
       " 'maxlen',\n",
       " 'pop',\n",
       " 'popleft',\n",
       " 'remove',\n",
       " 'reverse',\n",
       " 'rotate']"
      ]
     },
     "execution_count": 2,
     "metadata": {},
     "output_type": "execute_result"
    }
   ],
   "source": [
    "from collections import deque\n",
    "stack=deque()\n",
    "dir(stack)"
   ]
  },
  {
   "cell_type": "code",
   "execution_count": 4,
   "id": "c61ccde1-8852-4169-b298-de773dea6cc9",
   "metadata": {},
   "outputs": [
    {
     "name": "stdout",
     "output_type": "stream",
     "text": [
      "deque(['hello', 'my', 'name', 'is', 'Galgamesh'])\n",
      "Galgamesh\n",
      "deque(['hello', 'my', 'name', 'is'])\n",
      "is\n"
     ]
    }
   ],
   "source": [
    "#deque provides an O(1) time complexity for append and pop operations as compared to a list that provides O(n) time complexity\n",
    "from collections import deque\n",
    "stack=deque()\n",
    "\n",
    "stack.append('hello')\n",
    "stack.append('my')\n",
    "stack.append('name')\n",
    "stack.append('is')\n",
    "stack.append('Galgamesh')\n",
    "print(stack)\n",
    "print(stack.pop())\n",
    "print(stack)\n",
    "print(stack[-1])"
   ]
  },
  {
   "cell_type": "code",
   "execution_count": 5,
   "id": "48e3b895-00c6-45f9-ab60-63d644df32a0",
   "metadata": {},
   "outputs": [],
   "source": [
    "class Stack:\n",
    "    def __init__(self):\n",
    "        self.container = deque()\n",
    "    \n",
    "    def push(self,val):\n",
    "        self.container.append(val)\n",
    "        \n",
    "    def pop(self):\n",
    "        return self.container.pop()\n",
    "    \n",
    "    def peek(self):\n",
    "        return  self.container[-1]\n",
    "    \n",
    "    def is_empty(self):\n",
    "        return len(self.container)==0\n",
    "    \n",
    "    def size(self):\n",
    "        return len(self.container)"
   ]
  },
  {
   "cell_type": "code",
   "execution_count": 9,
   "id": "d3452746-44fc-4c46-8e6e-9d2769220391",
   "metadata": {},
   "outputs": [
    {
     "data": {
      "text/plain": [
       "deque([5, 6, 18])"
      ]
     },
     "execution_count": 9,
     "metadata": {},
     "output_type": "execute_result"
    }
   ],
   "source": [
    "s = Stack()\n",
    "s.push(5)\n",
    "s.push(6)\n",
    "s.push(18)\n",
    "s.container"
   ]
  },
  {
   "cell_type": "code",
   "execution_count": 10,
   "id": "77f77247-243b-4f52-a4ab-f6c1771d28e1",
   "metadata": {},
   "outputs": [
    {
     "data": {
      "image/jpeg": "[encoded data removed]",
      "text/plain": [
       "<IPython.core.display.Image object>"
      ]
     },
     "execution_count": 10,
     "metadata": {},
     "output_type": "execute_result"
    }
   ],
   "source": [
    "#exersise\n",
    "#Write a function in python that checks if paranthesis in the string are balanced or not. \n",
    "#Possible parantheses are \"{}',\"()\" or \"[]\".\n",
    "from IPython.display import Image\n",
    "PATH = \"photos/stackpic.jpg\"\n",
    "Image(filename = PATH)"
   ]
  },
  {
   "cell_type": "code",
   "execution_count": 29,
   "id": "13363c0c-3a46-4a31-acc9-08e9b455e7cd",
   "metadata": {},
   "outputs": [
    {
     "name": "stdout",
     "output_type": "stream",
     "text": [
      "True\n",
      "False\n",
      "True\n",
      "True\n",
      "False\n",
      "True\n"
     ]
    }
   ],
   "source": [
    "def is_balanced(string):\n",
    "    s=Stack()\n",
    "    openlist=[\"{\",\"(\",\"[\"]\n",
    "    closelist=[\"}\",\")\",\"]\"]\n",
    "    correspond={}\n",
    "    for i in range(3):\n",
    "        correspond[openlist[i]]=closelist[i]\n",
    "    for i in list(string):\n",
    "        if i in openlist:\n",
    "            s.push(i)\n",
    "        #After checking solution I could have done a doouble if loop here by first doing if empty and for the second one do else\n",
    "        elif s.is_empty() and i in closelist:\n",
    "            return False\n",
    "        elif not s.is_empty() and i == correspond[s.peek()]:\n",
    "            s.pop()\n",
    "    return s.is_empty()\n",
    "            \n",
    "print(is_balanced(\"({a+b})\"))\n",
    "print(is_balanced(\"))((a+b}{\"))\n",
    "print(is_balanced(\"((a+b))\"))\n",
    "print(is_balanced(\"((a+g))\"))\n",
    "print(is_balanced(\"))\"))\n",
    "print(is_balanced(\"[a+b]*(x+2y)*{gg+kk}\"))"
   ]
  },
  {
   "cell_type": "code",
   "execution_count": 14,
   "id": "c34978ef-f5dd-41f6-8a53-c15f1489b6eb",
   "metadata": {},
   "outputs": [
    {
     "data": {
      "text/plain": [
       "'['"
      ]
     },
     "execution_count": 14,
     "metadata": {},
     "output_type": "execute_result"
    }
   ],
   "source": [
    "[\"{\",\"(\",\"[\"][2]"
   ]
  },
  {
   "cell_type": "code",
   "execution_count": null,
   "id": "441bfaa5-d499-4a6b-b5f4-7bb4cdab1c2f",
   "metadata": {},
   "outputs": [],
   "source": []
  }
 ],
 "metadata": {
  "kernelspec": {
   "display_name": "Python 3 (ipykernel)",
   "language": "python",
   "name": "python3"
  },
  "language_info": {
   "codemirror_mode": {
    "name": "ipython",
    "version": 3
   },
   "file_extension": ".py",
   "mimetype": "text/x-python",
   "name": "python",
   "nbconvert_exporter": "python",
   "pygments_lexer": "ipython3",
   "version": "3.9.7"
  }
 },
 "nbformat": 4,
 "nbformat_minor": 5
}
